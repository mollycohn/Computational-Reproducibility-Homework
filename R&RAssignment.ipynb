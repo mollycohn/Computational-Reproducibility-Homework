{
  "nbformat": 4,
  "nbformat_minor": 0,
  "metadata": {
    "colab": {
      "provenance": []
    },
    "kernelspec": {
      "name": "python3",
      "display_name": "Python 3"
    },
    "language_info": {
      "name": "python"
    }
  },
  "cells": [
    {
      "cell_type": "code",
      "execution_count": 1,
      "metadata": {
        "colab": {
          "base_uri": "https://localhost:8080/"
        },
        "id": "GUBMF4mwBKWn",
        "outputId": "9951c552-6669-4bba-aaba-121074e0b728"
      },
      "outputs": [
        {
          "output_type": "stream",
          "name": "stdout",
          "text": [
            "Today's date: 2023-10-29\n"
          ]
        }
      ],
      "source": [
        "from datetime import date\n",
        "today = date.today()\n",
        "print(\"Today's date:\", today)"
      ]
    },
    {
      "cell_type": "code",
      "source": [
        "result = 10*523\n",
        "print(\"The result of 10 * 523 is:\", result)"
      ],
      "metadata": {
        "colab": {
          "base_uri": "https://localhost:8080/"
        },
        "id": "Un0JiPMABbnH",
        "outputId": "1d15ea13-2239-4e7f-da36-94deb3b7d6b0"
      },
      "execution_count": 2,
      "outputs": [
        {
          "output_type": "stream",
          "name": "stdout",
          "text": [
            "The result of 10 * 523 is: 5230\n"
          ]
        }
      ]
    },
    {
      "cell_type": "markdown",
      "source": [
        "Reflection\n",
        "\n",
        "Using a platform like Github is important in advncing reproducibility on a computational level. Githubs allows researchers to share code, data, and documents, which allows other researchers to follow their code, experiments, or analyses. This provides for a higher level of computational reproducibility by allowing an individual to verify both scientific results and methods from others.\n",
        "\n",
        "Github also pcontrivutes to computational reproducibility through its documentation features. For example: README files and adding comments to code within GitHub encourages comprehensive explanations of the research process. This aids in the understanding of the code and datasets, making it easier for others to reproduce the work.\n",
        "\n",
        "In addition, the transparency of Github's open access on the internet provides access to anyone, which enhances the overall credibility of the work."
      ],
      "metadata": {
        "id": "Kxh5TULvBorO"
      }
    }
  ]
}